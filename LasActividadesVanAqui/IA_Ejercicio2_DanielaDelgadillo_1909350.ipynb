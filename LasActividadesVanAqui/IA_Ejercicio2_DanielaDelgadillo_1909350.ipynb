{
  "nbformat": 4,
  "nbformat_minor": 0,
  "metadata": {
    "colab": {
      "name": "IA_Ejercicio2_DanielaDelgadillo_1909350",
      "provenance": [],
      "collapsed_sections": []
    },
    "kernelspec": {
      "name": "python3",
      "display_name": "Python 3"
    },
    "language_info": {
      "name": "python"
    }
  },
  "cells": [
    {
      "cell_type": "code",
      "source": [
        "#Actividad 2.- Ejercicios en Python\n",
        "# DANIELA PRISCILA DELGADILLO ESQUIVEL    MATRICULA: 1909350"
      ],
      "metadata": {
        "id": "atxUmgmLFzXV"
      },
      "execution_count": null,
      "outputs": []
    },
    {
      "cell_type": "code",
      "source": [
        "#Ejercicio 1\n",
        "nom =input(\"ingresa tu nombre:\") #input te permite agregar un dato variable\n",
        "a=\"Ana\"\n",
        "b=\"Pedro\"\n",
        "c=\"Juan\"\n",
        " \n",
        "if nom== a or nom== b or nom== c:\n",
        "   print (\"Ese nombre no está permitido\")\n",
        "else:\n",
        "    print (\"Hola\",nom + \". Buen día\")\n"
      ],
      "metadata": {
        "colab": {
          "base_uri": "https://localhost:8080/"
        },
        "id": "_ROt_KkU8KGq",
        "outputId": "db96c12c-3a31-4da9-fe41-470cdeb3cc98"
      },
      "execution_count": 79,
      "outputs": [
        {
          "output_type": "stream",
          "name": "stdout",
          "text": [
            "ingresa tu nombre:Ana\n",
            "Ese nombre no está permitido\n"
          ]
        }
      ]
    },
    {
      "cell_type": "code",
      "source": [
        "#Ejercicio 2\n",
        "\n",
        "list =[1,2,3,4,5,6,7,8,9,10]\n",
        "print(list)\n",
        "print(list[-1]) #para seleccionar el ultimo numero a la lista\n",
        "list.reverse ()\n",
        "print (list)\n"
      ],
      "metadata": {
        "colab": {
          "base_uri": "https://localhost:8080/"
        },
        "id": "CBZlzqY28fNf",
        "outputId": "9799b191-794f-47ca-c8eb-9c858671d11d"
      },
      "execution_count": 80,
      "outputs": [
        {
          "output_type": "stream",
          "name": "stdout",
          "text": [
            "[1, 2, 3, 4, 5, 6, 7, 8, 9, 10]\n",
            "10\n",
            "[10, 9, 8, 7, 6, 5, 4, 3, 2, 1]\n"
          ]
        }
      ]
    },
    {
      "cell_type": "code",
      "source": [
        "#Ejercicio 3\n",
        "\n",
        "lista=[\"Hola\",\"a\",\"todos\",\"hoy\",\"se\",\"entrega\",\"la\",\"tarea\"]\n",
        "print (\"***************\")\n",
        "\n",
        "\n",
        "for tXt in lista:\n",
        "  print(\"*\"+ tXt.ljust(13,\" \") + \"*\")\n",
        "\n",
        "  #Fuera del for se escribe print *** para que no se imprima en\n",
        "print (\"***************\")"
      ],
      "metadata": {
        "colab": {
          "base_uri": "https://localhost:8080/"
        },
        "id": "K6AGPq-P2d1U",
        "outputId": "750a5c2d-1b0f-465f-e36d-564aaa8cb878"
      },
      "execution_count": 81,
      "outputs": [
        {
          "output_type": "stream",
          "name": "stdout",
          "text": [
            "***************\n",
            "*Hola         *\n",
            "*a            *\n",
            "*todos        *\n",
            "*hoy          *\n",
            "*se           *\n",
            "*entrega      *\n",
            "*la           *\n",
            "*tarea        *\n",
            "***************\n"
          ]
        }
      ]
    },
    {
      "cell_type": "code",
      "source": [
        ""
      ],
      "metadata": {
        "id": "q06cLxFz2d-Q"
      },
      "execution_count": null,
      "outputs": []
    }
  ]
}